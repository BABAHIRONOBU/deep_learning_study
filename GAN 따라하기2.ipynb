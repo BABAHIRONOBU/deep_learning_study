{
  "cells": [
    {
      "metadata": {
        "trusted": true
      },
      "cell_type": "code",
      "source": "# 2016년에 가장 관심을 많이 받았던 비감독(Unsupervised) 학습 방법인\n# Generative Adversarial Network(GAN)을 구현해봅니다.\n# https://arxiv.org/abs/1406.2661\nimport tensorflow as tf\nimport matplotlib.pyplot as plt\nimport numpy as np\n\nfrom tensorflow.examples.tutorials.mnist import input_data\nmnist = input_data.read_data_sets(\"./mnist/data/\", one_hot=True)",
      "execution_count": 1,
      "outputs": [
        {
          "output_type": "stream",
          "text": "WARNING:tensorflow:From <ipython-input-1-cf860c9255dd>:9: read_data_sets (from tensorflow.contrib.learn.python.learn.datasets.mnist) is deprecated and will be removed in a future version.\nInstructions for updating:\nPlease use alternatives such as official/mnist/dataset.py from tensorflow/models.\nWARNING:tensorflow:From /home/nbuser/anaconda3_501/lib/python3.6/site-packages/tensorflow/contrib/learn/python/learn/datasets/mnist.py:260: maybe_download (from tensorflow.contrib.learn.python.learn.datasets.base) is deprecated and will be removed in a future version.\nInstructions for updating:\nPlease write your own downloading logic.\nWARNING:tensorflow:From /home/nbuser/anaconda3_501/lib/python3.6/site-packages/tensorflow/contrib/learn/python/learn/datasets/base.py:252: _internal_retry.<locals>.wrap.<locals>.wrapped_fn (from tensorflow.contrib.learn.python.learn.datasets.base) is deprecated and will be removed in a future version.\nInstructions for updating:\nPlease use urllib or similar directly.\nSuccessfully downloaded train-images-idx3-ubyte.gz 9912422 bytes.\nWARNING:tensorflow:From /home/nbuser/anaconda3_501/lib/python3.6/site-packages/tensorflow/contrib/learn/python/learn/datasets/mnist.py:262: extract_images (from tensorflow.contrib.learn.python.learn.datasets.mnist) is deprecated and will be removed in a future version.\nInstructions for updating:\nPlease use tf.data to implement this functionality.\nExtracting ./mnist/data/train-images-idx3-ubyte.gz\nSuccessfully downloaded train-labels-idx1-ubyte.gz 28881 bytes.\nWARNING:tensorflow:From /home/nbuser/anaconda3_501/lib/python3.6/site-packages/tensorflow/contrib/learn/python/learn/datasets/mnist.py:267: extract_labels (from tensorflow.contrib.learn.python.learn.datasets.mnist) is deprecated and will be removed in a future version.\nInstructions for updating:\nPlease use tf.data to implement this functionality.\nExtracting ./mnist/data/train-labels-idx1-ubyte.gz\nWARNING:tensorflow:From /home/nbuser/anaconda3_501/lib/python3.6/site-packages/tensorflow/contrib/learn/python/learn/datasets/mnist.py:110: dense_to_one_hot (from tensorflow.contrib.learn.python.learn.datasets.mnist) is deprecated and will be removed in a future version.\nInstructions for updating:\nPlease use tf.one_hot on tensors.\nSuccessfully downloaded t10k-images-idx3-ubyte.gz 1648877 bytes.\nExtracting ./mnist/data/t10k-images-idx3-ubyte.gz\nSuccessfully downloaded t10k-labels-idx1-ubyte.gz 4542 bytes.\nExtracting ./mnist/data/t10k-labels-idx1-ubyte.gz\nWARNING:tensorflow:From /home/nbuser/anaconda3_501/lib/python3.6/site-packages/tensorflow/contrib/learn/python/learn/datasets/mnist.py:290: DataSet.__init__ (from tensorflow.contrib.learn.python.learn.datasets.mnist) is deprecated and will be removed in a future version.\nInstructions for updating:\nPlease use alternatives such as official/mnist/dataset.py from tensorflow/models.\n",
          "name": "stdout"
        }
      ]
    },
    {
      "metadata": {
        "trusted": true
      },
      "cell_type": "code",
      "source": "%matplotlib inline",
      "execution_count": 12,
      "outputs": []
    },
    {
      "metadata": {
        "trusted": true
      },
      "cell_type": "code",
      "source": "######\n# 옵션 설정\n######\ntotal_epoch = 100\nbatch_size = 100\nlearning_rate = 0.0002\n# 신경망 레이어 구성 옵션\nn_hidden = 256\nn_input = 28 * 28\nn_noise = 128  # 생성기의 입력값으로 사용할 노이즈의 크기",
      "execution_count": 13,
      "outputs": []
    },
    {
      "metadata": {
        "trusted": true
      },
      "cell_type": "code",
      "source": "######\n# 신경망 모델 구성\n######\n# GAN 도 Unsupervised 학습이므로 Autoencoder 처럼 Y 를 사용하지 않습니다.\nX = tf.placeholder(tf.float32, [None, n_input])\n# 노이즈 Z를 입력값으로 사용합니다.\nZ = tf.placeholder(tf.float32, [None, n_noise])\n\n# 생성기 신경망에 사용하는 변수들입니다.\nG_W1 = tf.Variable(tf.random_normal([n_noise, n_hidden], stddev=0.01))\nG_b1 = tf.Variable(tf.zeros([n_hidden]))\nG_W2 = tf.Variable(tf.random_normal([n_hidden, n_input], stddev=0.01))\nG_b2 = tf.Variable(tf.zeros([n_input]))\n\n# 판별기 신경망에 사용하는 변수들입니다.\nD_W1 = tf.Variable(tf.random_normal([n_input, n_hidden], stddev=0.01))\nD_b1 = tf.Variable(tf.zeros([n_hidden]))\n# 판별기의 최종 결과값은 얼마나 진짜와 가깝냐를 판단하는 한 개의 스칼라값입니다.\nD_W2 = tf.Variable(tf.random_normal([n_hidden, 1], stddev=0.01))\nD_b2 = tf.Variable(tf.zeros([1]))\n\n\n# 생성기(G) 신경망을 구성합니다.\ndef generator(noise_z):\n    hidden = tf.nn.relu(\n                    tf.matmul(noise_z, G_W1) + G_b1)\n    output = tf.nn.sigmoid(\n                    tf.matmul(hidden, G_W2) + G_b2)\n\n    return output\n\n\n# 판별기(D) 신경망을 구성합니다.\ndef discriminator(inputs):\n    hidden = tf.nn.relu(\n                    tf.matmul(inputs, D_W1) + D_b1)\n    output = tf.nn.sigmoid(\n                    tf.matmul(hidden, D_W2) + D_b2)\n\n    return output\n\n\n# 랜덤한 노이즈(Z)를 만듭니다.\ndef get_noise(batch_size, n_noise):\n    return np.random.normal(size=(batch_size, n_noise))\n\n\n# 노이즈를 이용해 랜덤한 이미지를 생성합니다.\nG = generator(Z)\n# 노이즈를 이용해 생성한 이미지가 진짜 이미지인지 판별한 값을 구합니다.\nD_gene = discriminator(G)\n# 진짜 이미지를 이용해 판별한 값을 구합니다.\nD_real = discriminator(X)\n\n# 논문에 따르면, GAN 모델의 최적화는 loss_G 와 loss_D 를 최대화 하는 것 입니다.\n# 다만 loss_D와 loss_G는 서로 연관관계가 있기 때문에 두 개의 손실값이 항상 같이 증가하는 경향을 보이지는 않을 것 입니다.\n# loss_D가 증가하려면 loss_G는 하락해야하고, loss_G가 증가하려면 loss_D는 하락해야하는 경쟁관계에 있기 때문입니다.\n# 논문의 수식에 따른 다음 로직을 보면 loss_D 를 최대화하기 위해서는 D_gene 값을 최소화하게 됩니다.\n# 판별기에 진짜 이미지를 넣었을 때에도 최대값을 : tf.log(D_real)\n# 가짜 이미지를 넣었을 때에도 최대값을 : tf.log(1 - D_gene)\n# 갖도록 학습시키기 때문입니다.\n# 이것은 판별기는 생성기가 만들어낸 이미지가 가짜라고 판단하도록 판별기 신경망을 학습시킵니다.\nloss_D = tf.reduce_mean(tf.log(D_real) + tf.log(1 - D_gene))\n# 반면 loss_G 를 최대화하기 위해서는 D_gene 값을 최대화하게 되는데,\n# 이것은 가짜 이미지를 넣었을 때, 판별기가 최대한 실제 이미지라고 판단하도록 생성기 신경망을 학습시킵니다.\n# 논문에서는 loss_D 와 같은 수식으로 최소화 하는 생성기를 찾지만,\n# 결국 D_gene 값을 최대화하는 것이므로 다음과 같이 사용할 수 있습니다.\nloss_G = tf.reduce_mean(tf.log(D_gene))\n\n# loss_D 를 구할 때는 판별기 신경망에 사용되는 변수만 사용하고,\n# loss_G 를 구할 때는 생성기 신경망에 사용되는 변수만 사용하여 최적화를 합니다.\nD_var_list = [D_W1, D_b1, D_W2, D_b2]\nG_var_list = [G_W1, G_b1, G_W2, G_b2]\n\n# GAN 논문의 수식에 따르면 loss 를 극대화 해야하지만, minimize 하는 최적화 함수를 사용하기 때문에\n# 최적화 하려는 loss_D 와 loss_G 에 음수 부호를 붙여줍니다.\ntrain_D = tf.train.AdamOptimizer(learning_rate).minimize(-loss_D,\n                                                         var_list=D_var_list)\ntrain_G = tf.train.AdamOptimizer(learning_rate).minimize(-loss_G,\n                                                         var_list=G_var_list)\n",
      "execution_count": 14,
      "outputs": []
    },
    {
      "metadata": {
        "trusted": true
      },
      "cell_type": "code",
      "source": "#########\n# 신경망 모델 학습\n######\nsess = tf.Session()\nsess.run(tf.global_variables_initializer())\n\ntotal_batch = int(mnist.train.num_examples/batch_size)\nloss_val_D, loss_val_G = 0, 0\n\nfor epoch in range(total_epoch):\n    for i in range(total_batch):\n        batch_xs, batch_ys = mnist.train.next_batch(batch_size)\n        noise = get_noise(batch_size, n_noise)\n\n        # 판별기와 생성기 신경망을 각각 학습시킵니다.\n        _, loss_val_D = sess.run([train_D, loss_D],\n                                 feed_dict={X: batch_xs, Z: noise})\n        _, loss_val_G = sess.run([train_G, loss_G],\n                                 feed_dict={Z: noise})\n\n    print('Epoch:', '%04d' % epoch,\n          'D loss: {:.4}'.format(loss_val_D),\n          'G loss: {:.4}'.format(loss_val_G))\n\n    #########\n    # 학습이 되어가는 모습을 보기 위해 주기적으로 이미지를 생성하여 저장\n    ######\n    if epoch == 0 or (epoch + 1) % 10 == 0:\n        sample_size = 10\n        noise = get_noise(sample_size, n_noise)\n        samples = sess.run(G, feed_dict={Z: noise})\n\n        fig, ax = plt.subplots(1, sample_size, figsize=(sample_size, 1))\n\n        for i in range(sample_size):\n            ax[i].set_axis_off()\n            ax[i].imshow(np.reshape(samples[i], (28, 28)))\n\n        plt.savefig('./samples/{}.png'.format(str(epoch).zfill(3)), bbox_inches='tight')\n        plt.close(fig)\n\nprint('최적화 완료!')",
      "execution_count": null,
      "outputs": []
    }
  ],
  "metadata": {
    "kernelspec": {
      "name": "python36",
      "display_name": "Python 3.6",
      "language": "python"
    },
    "language_info": {
      "mimetype": "text/x-python",
      "nbconvert_exporter": "python",
      "name": "python",
      "pygments_lexer": "ipython3",
      "version": "3.6.6",
      "file_extension": ".py",
      "codemirror_mode": {
        "version": 3,
        "name": "ipython"
      }
    }
  },
  "nbformat": 4,
  "nbformat_minor": 1
}