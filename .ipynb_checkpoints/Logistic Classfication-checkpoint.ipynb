{
  "cells": [
    {
      "metadata": {},
      "cell_type": "markdown",
      "source": "# Logistic Classfication"
    },
    {
      "metadata": {},
      "cell_type": "markdown",
      "source": "## Hypothesis"
    },
    {
      "metadata": {},
      "cell_type": "markdown",
      "source": "$$H(x) = \\frac{1}{1+e^{-(Wx+b)}}$$  \n$$H(Z) = \\frac{1}{1+e^{-Z}}$$  \n$$Z(x) = Wx + b$$"
    },
    {
      "metadata": {},
      "cell_type": "markdown",
      "source": "* sigmoid function: $\\frac{1}{1+e^{-x}}$"
    },
    {
      "metadata": {},
      "cell_type": "markdown",
      "source": "## Evaluate Error"
    },
    {
      "metadata": {},
      "cell_type": "markdown",
      "source": "$$error(H(x), y) = \n\\begin{cases}\n-\\log{(H(x))}, & \\text{if y=1} \\\\\n-\\log{(1-H(x))}, & \\text{if y=0}\n\\end{cases}$$  \n$$error(H(x), y) = -y\\log{(H(x))}-(1-y)\\log{(1-H(x))}$$"
    },
    {
      "metadata": {},
      "cell_type": "markdown",
      "source": "## Cost function"
    },
    {
      "metadata": {},
      "cell_type": "markdown",
      "source": "$$cost(W,b) = \\frac{1}{m} \\sum_{i=1}^{m} error(H(x_i), y_i)$$\n$$cost(W,b) = \\frac{1}{m} \\sum_{i=1}^{m} -y_i\\log{(H(x_i))}-(1-y_i)\\log{(1-H(x_i))}$$"
    },
    {
      "metadata": {},
      "cell_type": "markdown",
      "source": "## Goal"
    },
    {
      "metadata": {},
      "cell_type": "markdown",
      "source": "$$\\underset{\\mathbf{W,b}}{\\operatorname{minimize}}cost(W,b)$$"
    },
    {
      "metadata": {},
      "cell_type": "markdown",
      "source": "## Exercise"
    },
    {
      "metadata": {
        "trusted": true
      },
      "cell_type": "code",
      "source": "import numpy as np\nimport tensorflow as tf\nimport tensorflow.contrib.eager as tfe\ntf.enable_eager_execution()",
      "execution_count": 7,
      "outputs": []
    },
    {
      "metadata": {
        "trusted": true
      },
      "cell_type": "code",
      "source": "def sigmoid(x, W, b):\n    y = tf.div(1., 1. + tf.exp(-(tf.multiply(x, W) + b)))\n    return y\n\nx = tf.Variable(5.)\nW = tf.Variable(1.)\nb = tf.Variable(0.)\n\nprint(tf.sigmoid(tf.multiply(x, W) + b))\nprint(sigmoid(x, W, b))",
      "execution_count": 6,
      "outputs": [
        {
          "output_type": "stream",
          "text": "tf.Tensor(0.9933072, shape=(), dtype=float32)\ntf.Tensor(0.9933072, shape=(), dtype=float32)\n",
          "name": "stdout"
        }
      ]
    },
    {
      "metadata": {},
      "cell_type": "markdown",
      "source": "### Data"
    },
    {
      "metadata": {
        "trusted": true
      },
      "cell_type": "code",
      "source": "x_train = np.array([[1., 2.], \n                    [2., 3.], \n                    [3., 1.], \n                    [4., 3.], \n                    [5., 3.], \n                    [6., 2.]])\ny_train = np.array([[0.],\n                    [0.],\n                    [0.],\n                    [1.],\n                    [1.],\n                    [1.]])\n\nx_test = np.array([[5., 2.]])\ny_test = np.array([[1.]])",
      "execution_count": 9,
      "outputs": []
    },
    {
      "metadata": {
        "trusted": true
      },
      "cell_type": "code",
      "source": "dataset = tf.data.Dataset.from_tensor_slices((x_train, y_train)).batch(len(x_train))",
      "execution_count": 10,
      "outputs": []
    },
    {
      "metadata": {
        "trusted": true
      },
      "cell_type": "code",
      "source": "W = tf.Variable(tf.zeros([2, 1]), name=\"weight\")",
      "execution_count": null,
      "outputs": []
    }
  ],
  "metadata": {
    "kernelspec": {
      "name": "python36",
      "display_name": "Python 3.6",
      "language": "python"
    },
    "language_info": {
      "mimetype": "text/x-python",
      "nbconvert_exporter": "python",
      "name": "python",
      "pygments_lexer": "ipython3",
      "version": "3.6.6",
      "file_extension": ".py",
      "codemirror_mode": {
        "version": 3,
        "name": "ipython"
      }
    }
  },
  "nbformat": 4,
  "nbformat_minor": 1
}